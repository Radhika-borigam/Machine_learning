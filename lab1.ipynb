{
 "cells": [
  {
   "cell_type": "code",
   "execution_count": 1,
   "id": "1f3ded9f-b2d4-4e49-9ade-df6d9411c33a",
   "metadata": {},
   "outputs": [
    {
     "name": "stdout",
     "output_type": "stream",
     "text": [
      "   TransactionID TransactionDate  UserID  ProductID  Quantity\n",
      "0              1      2010-08-21     7.0          2         1\n",
      "1              2      2011-05-26     3.0          4         1\n",
      "2              3      2011-06-16     3.0          3         1\n",
      "3              4      2012-08-26     1.0          2         3\n",
      "4              5      2013-06-06     2.0          4         1\n",
      "5              6      2013-12-23     2.0          5         6\n",
      "6              7      2013-12-30     3.0          4         1\n",
      "7              8      2014-04-24     NaN          2         3\n",
      "8              9      2015-04-24     7.0          4         3\n",
      "9             10      2016-05-08     3.0          4         4\n"
     ]
    }
   ],
   "source": [
    "import pandas as pd\n",
    "df=pd.read_csv(\"transactions .csv\")\n",
    "print(df)\n",
    "      "
   ]
  },
  {
   "cell_type": "code",
   "execution_count": 2,
   "id": "0aad4743-734b-4fbe-8ef8-988e95607e75",
   "metadata": {},
   "outputs": [
    {
     "name": "stdout",
     "output_type": "stream",
     "text": [
      "   TransactionID TransactionDate  UserID  ProductID  Quantity\n",
      "0              1      2010-08-21     7.0          2         1\n",
      "1              2      2011-05-26     3.0          4         1\n",
      "2              3      2011-06-16     3.0          3         1\n",
      "3              4      2012-08-26     1.0          2         3\n",
      "4              5      2013-06-06     2.0          4         1\n"
     ]
    }
   ],
   "source": [
    "print(df.head())"
   ]
  },
  {
   "cell_type": "code",
   "execution_count": 3,
   "id": "cca258c4-cb69-41bf-81d8-f441be536ee2",
   "metadata": {},
   "outputs": [
    {
     "name": "stdout",
     "output_type": "stream",
     "text": [
      "   TransactionID TransactionDate  UserID  ProductID  Quant\n",
      "0              1      2010-08-21     7.0          2      1\n",
      "1              2      2011-05-26     3.0          4      1\n",
      "2              3      2011-06-16     3.0          3      1\n",
      "3              4      2012-08-26     1.0          2      3\n",
      "4              5      2013-06-06     2.0          4      1\n"
     ]
    }
   ],
   "source": [
    "df.rename(columns={\"Quantity\":\"Quant\"},inplace=True)\n",
    "print(df.head())"
   ]
  },
  {
   "cell_type": "code",
   "execution_count": 4,
   "id": "f4fdac34-2368-4c55-8ce7-7bc71e09e7a7",
   "metadata": {},
   "outputs": [
    {
     "name": "stdout",
     "output_type": "stream",
     "text": [
      "   TransactionID TransactionDate  uid  ProductID  Quant\n",
      "0              1      2010-08-21  7.0          2      1\n",
      "1              2      2011-05-26  3.0          4      1\n",
      "2              3      2011-06-16  3.0          3      1\n",
      "3              4      2012-08-26  1.0          2      3\n",
      "4              5      2013-06-06  2.0          4      1\n"
     ]
    }
   ],
   "source": [
    "df.rename(columns={\"UserID\":\"uid\"},inplace=True)\n",
    "print(df.head())"
   ]
  },
  {
   "cell_type": "code",
   "execution_count": 5,
   "id": "0d2cc6b9-a97a-4ff9-8de9-18940e0f8ae9",
   "metadata": {},
   "outputs": [
    {
     "name": "stdout",
     "output_type": "stream",
     "text": [
      "   TransactionID TransactionDate  uid  ProductID  Quant\n",
      "5              6      2013-12-23  2.0          5      6\n",
      "6              7      2013-12-30  3.0          4      1\n",
      "7              8      2014-04-24  NaN          2      3\n",
      "8              9      2015-04-24  7.0          4      3\n",
      "9             10      2016-05-08  3.0          4      4\n"
     ]
    }
   ],
   "source": [
    "print(df.tail())\n"
   ]
  },
  {
   "cell_type": "code",
   "execution_count": 6,
   "id": "4a725f53-4fd1-414b-9505-775868f7f048",
   "metadata": {},
   "outputs": [
    {
     "name": "stdout",
     "output_type": "stream",
     "text": [
      "   TransactionID TransactionDate  uid  ProductID  Quant\n",
      "9             10      2016-05-08  3.0          4      4\n"
     ]
    }
   ],
   "source": [
    "print(df.tail(1))"
   ]
  },
  {
   "cell_type": "code",
   "execution_count": 7,
   "id": "01198801-533b-4a39-a459-6a2a8fcea3bc",
   "metadata": {},
   "outputs": [
    {
     "name": "stdout",
     "output_type": "stream",
     "text": [
      "<class 'pandas.core.frame.DataFrame'>\n",
      "RangeIndex: 10 entries, 0 to 9\n",
      "Data columns (total 5 columns):\n",
      " #   Column           Non-Null Count  Dtype  \n",
      "---  ------           --------------  -----  \n",
      " 0   TransactionID    10 non-null     int64  \n",
      " 1   TransactionDate  10 non-null     object \n",
      " 2   uid              9 non-null      float64\n",
      " 3   ProductID        10 non-null     int64  \n",
      " 4   Quant            10 non-null     int64  \n",
      "dtypes: float64(1), int64(3), object(1)\n",
      "memory usage: 532.0+ bytes\n",
      "None\n"
     ]
    }
   ],
   "source": [
    "print(df.info())\n"
   ]
  },
  {
   "cell_type": "code",
   "execution_count": 8,
   "id": "c2c78f6c-a1e2-4433-b7ff-25f9092bd92e",
   "metadata": {},
   "outputs": [
    {
     "name": "stdout",
     "output_type": "stream",
     "text": [
      "       TransactionID       uid  ProductID      Quant\n",
      "count       10.00000  9.000000  10.000000  10.000000\n",
      "mean         5.50000  3.444444   3.400000   2.400000\n",
      "std          3.02765  2.127858   1.074968   1.712698\n",
      "min          1.00000  1.000000   2.000000   1.000000\n",
      "25%          3.25000  2.000000   2.250000   1.000000\n",
      "50%          5.50000  3.000000   4.000000   2.000000\n",
      "75%          7.75000  3.000000   4.000000   3.000000\n",
      "max         10.00000  7.000000   5.000000   6.000000\n"
     ]
    }
   ],
   "source": [
    "print(df.describe())"
   ]
  },
  {
   "cell_type": "code",
   "execution_count": 9,
   "id": "dd777dc3-57e6-413a-be16-89465d19b30c",
   "metadata": {},
   "outputs": [
    {
     "name": "stdout",
     "output_type": "stream",
     "text": [
      "count    9.000000\n",
      "mean     3.444444\n",
      "std      2.127858\n",
      "min      1.000000\n",
      "25%      2.000000\n",
      "50%      3.000000\n",
      "75%      3.000000\n",
      "max      7.000000\n",
      "Name: uid, dtype: float64\n"
     ]
    }
   ],
   "source": [
    "print(df['uid'].describe())"
   ]
  },
  {
   "cell_type": "code",
   "execution_count": 10,
   "id": "50f257f5-787b-466c-a4a0-1b2af4d7772f",
   "metadata": {},
   "outputs": [
    {
     "name": "stdout",
     "output_type": "stream",
     "text": [
      "0    7.0\n",
      "1    3.0\n",
      "2    3.0\n",
      "3    1.0\n",
      "4    2.0\n",
      "5    2.0\n",
      "6    3.0\n",
      "7    NaN\n",
      "8    7.0\n",
      "9    3.0\n",
      "Name: uid, dtype: float64\n"
     ]
    }
   ],
   "source": [
    "print(df['uid'])"
   ]
  },
  {
   "cell_type": "code",
   "execution_count": 11,
   "id": "7cd24a84-6e8e-403e-88ef-0c594d3e663c",
   "metadata": {},
   "outputs": [
    {
     "name": "stdout",
     "output_type": "stream",
     "text": [
      "TransactionID               1\n",
      "TransactionDate    2010-08-21\n",
      "uid                       7.0\n",
      "ProductID                   2\n",
      "Quant                       1\n",
      "Name: 0, dtype: object\n"
     ]
    }
   ],
   "source": [
    "print(df.iloc[0])"
   ]
  },
  {
   "cell_type": "code",
   "execution_count": 12,
   "id": "385bc85b-6918-455f-9c48-b8394059a4b0",
   "metadata": {},
   "outputs": [
    {
     "name": "stdout",
     "output_type": "stream",
     "text": [
      "2\n"
     ]
    }
   ],
   "source": [
    "print(df.iloc[0,3])"
   ]
  },
  {
   "cell_type": "code",
   "execution_count": 13,
   "id": "df4745a6-ce4a-43aa-9cbd-384a33fb3355",
   "metadata": {},
   "outputs": [
    {
     "name": "stdout",
     "output_type": "stream",
     "text": [
      "   TransactionID TransactionDate  uid  ProductID  Quant\n",
      "5              6      2013-12-23  2.0          5      6\n",
      "6              7      2013-12-30  3.0          4      1\n"
     ]
    }
   ],
   "source": [
    "print(df.iloc[5:7])"
   ]
  },
  {
   "cell_type": "code",
   "execution_count": 14,
   "id": "a29b899a-3509-496c-a49a-9d70b2e4f58b",
   "metadata": {},
   "outputs": [
    {
     "name": "stdout",
     "output_type": "stream",
     "text": [
      "   TransactionID TransactionDate  uid  ProductID  Quant\n",
      "0              1      2010-08-21  7.0          2      1\n",
      "1              2      2011-05-26  3.0          4      1\n",
      "2              3      2011-06-16  3.0          3      1\n",
      "3              4      2012-08-26  1.0          2      3\n",
      "4              5      2013-06-06  2.0          4      1\n",
      "5              6      2013-12-23  2.0          5      6\n",
      "6              7      2013-12-30  3.0          4      1\n",
      "7              8      2014-04-24  NaN          2      3\n",
      "8              9      2015-04-24  7.0          4      3\n",
      "9             10      2016-05-08  3.0          4      4\n"
     ]
    }
   ],
   "source": [
    "sorted=df.sort_values(by='TransactionID',ascending=True)\n",
    "print(sorted)"
   ]
  },
  {
   "cell_type": "code",
   "execution_count": 15,
   "id": "7160904e-cb85-4236-a7b7-789260c9aa8d",
   "metadata": {},
   "outputs": [
    {
     "name": "stdout",
     "output_type": "stream",
     "text": [
      "   TransactionID TransactionDate  uid  ProductID  Quant\n",
      "9             10      2016-05-08  3.0          4      4\n",
      "8              9      2015-04-24  7.0          4      3\n",
      "7              8      2014-04-24  NaN          2      3\n",
      "6              7      2013-12-30  3.0          4      1\n",
      "5              6      2013-12-23  2.0          5      6\n",
      "4              5      2013-06-06  2.0          4      1\n",
      "3              4      2012-08-26  1.0          2      3\n",
      "2              3      2011-06-16  3.0          3      1\n",
      "1              2      2011-05-26  3.0          4      1\n",
      "0              1      2010-08-21  7.0          2      1\n"
     ]
    }
   ],
   "source": [
    "sorted=df.sort_values(by='TransactionID',ascending=False)\n",
    "print(sorted)"
   ]
  },
  {
   "cell_type": "code",
   "execution_count": 21,
   "id": "c1e7a030-4855-4175-b40b-290cd26a99ef",
   "metadata": {},
   "outputs": [
    {
     "name": "stdout",
     "output_type": "stream",
     "text": [
      "   TransactionID TransactionDate  uid  ProductID  Quant\n",
      "9             10      2016-05-08  3.0          4      4\n",
      "8              9      2015-04-24  7.0          4      3\n",
      "7              8      2014-04-24  NaN          2      3\n",
      "6              7      2013-12-30  3.0          4      1\n",
      "5              6      2013-12-23  2.0          5      6\n",
      "4              5      2013-06-06  2.0          4      1\n",
      "3              4      2012-08-26  1.0          2      3\n",
      "2              3      2011-06-16  3.0          3      1\n",
      "1              2      2011-05-26  3.0          4      1\n",
      "0              1      2010-08-21  7.0          2      1\n"
     ]
    }
   ],
   "source": [
    "sorted=df.sort_values(by=[\"TransactionID\",\"ProductID\"],ascending=[False,True])\n",
    "print(sorted)"
   ]
  },
  {
   "cell_type": "code",
   "execution_count": 23,
   "id": "5a80400a-1815-4234-ac33-65d006fdbf8a",
   "metadata": {},
   "outputs": [
    {
     "name": "stdout",
     "output_type": "stream",
     "text": [
      "   uid  TransactionID  ProductID  Quant TransactionDate\n",
      "0  7.0              1          2      1      2010-08-21\n",
      "1  3.0              2          4      1      2011-05-26\n",
      "2  3.0              3          3      1      2011-06-16\n",
      "3  1.0              4          2      3      2012-08-26\n",
      "4  2.0              5          4      1      2013-06-06\n",
      "5  2.0              6          5      6      2013-12-23\n",
      "6  3.0              7          4      1      2013-12-30\n",
      "7  NaN              8          2      3      2014-04-24\n",
      "8  7.0              9          4      3      2015-04-24\n",
      "9  3.0             10          4      4      2016-05-08\n"
     ]
    }
   ],
   "source": [
    "print(df[['uid','TransactionID','ProductID','Quant','TransactionDate']])"
   ]
  },
  {
   "cell_type": "code",
   "execution_count": 24,
   "id": "74375e8c-a241-4f69-b6e6-465752050b8d",
   "metadata": {},
   "outputs": [
    {
     "ename": "SyntaxError",
     "evalue": "invalid syntax (3075929613.py, line 1)",
     "output_type": "error",
     "traceback": [
      "\u001b[1;36m  Cell \u001b[1;32mIn[24], line 1\u001b[1;36m\u001b[0m\n\u001b[1;33m    print(df[['uid':]])\u001b[0m\n\u001b[1;37m                   ^\u001b[0m\n\u001b[1;31mSyntaxError\u001b[0m\u001b[1;31m:\u001b[0m invalid syntax\n"
     ]
    }
   ],
   "source": []
  },
  {
   "cell_type": "code",
   "execution_count": 40,
   "id": "2100e6ac-df2b-4a16-a55d-a870ca82b2bd",
   "metadata": {},
   "outputs": [
    {
     "name": "stdout",
     "output_type": "stream",
     "text": [
      "0    7.0\n",
      "1    3.0\n",
      "2    3.0\n",
      "3    1.0\n",
      "4    2.0\n",
      "5    2.0\n",
      "6    3.0\n",
      "7    NaN\n",
      "8    7.0\n",
      "9    3.0\n",
      "Name: uid, dtype: float64\n"
     ]
    }
   ],
   "source": [
    "newarray=df['uid']\n",
    "\n",
    "print(newarray)"
   ]
  },
  {
   "cell_type": "code",
   "execution_count": 41,
   "id": "dbd2e260-31b1-4051-b305-73d90df04488",
   "metadata": {},
   "outputs": [],
   "source": [
    "import numpy as np"
   ]
  },
  {
   "cell_type": "code",
   "execution_count": 52,
   "id": "d3cb4ba5-c077-4d33-91b9-e2fe6e7b1817",
   "metadata": {},
   "outputs": [
    {
     "name": "stdout",
     "output_type": "stream",
     "text": [
      "[[ 7.  3.  3.  1.  2.]\n",
      " [ 2.  3. nan  7.  3.]]\n"
     ]
    }
   ],
   "source": [
    "newarray = np.asarray(newarray).reshape(2,-1);\n",
    "newarray\n",
    "print(newarray)"
   ]
  },
  {
   "cell_type": "code",
   "execution_count": null,
   "id": "36e1f807-d690-45b1-aaa9-ae5ba84e37a8",
   "metadata": {},
   "outputs": [],
   "source": []
  },
  {
   "cell_type": "code",
   "execution_count": null,
   "id": "0591a0db-5364-4dd3-8115-52bebdb1f851",
   "metadata": {},
   "outputs": [],
   "source": []
  }
 ],
 "metadata": {
  "kernelspec": {
   "display_name": "Python 3 (ipykernel)",
   "language": "python",
   "name": "python3"
  },
  "language_info": {
   "codemirror_mode": {
    "name": "ipython",
    "version": 3
   },
   "file_extension": ".py",
   "mimetype": "text/x-python",
   "name": "python",
   "nbconvert_exporter": "python",
   "pygments_lexer": "ipython3",
   "version": "3.12.4"
  }
 },
 "nbformat": 4,
 "nbformat_minor": 5
}
